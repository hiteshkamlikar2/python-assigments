{
  "nbformat": 4,
  "nbformat_minor": 0,
  "metadata": {
    "colab": {
      "name": "Copy of assigment2.ipynb",
      "provenance": [],
      "collapsed_sections": []
    },
    "kernelspec": {
      "name": "python3",
      "display_name": "Python 3"
    },
    "language_info": {
      "name": "python"
    }
  },
  "cells": [
    {
      "cell_type": "code",
      "execution_count": null,
      "metadata": {
        "id": "ufX0wPoCQQDp"
      },
      "outputs": [],
      "source": [
        "#write a program find a list of integer with exactly two occurance of nineteen and atleast three occurance of five"
      ]
    },
    {
      "cell_type": "code",
      "source": [
        "a=[19,5,5,5,19,5]\n",
        "print(a.count(19)==2 and a.count(5)>=3)"
      ],
      "metadata": {
        "colab": {
          "base_uri": "https://localhost:8080/"
        },
        "id": "7uLTtMtgQ-CJ",
        "outputId": "cb0158dd-e7bd-4c87-86a6-c229203ae25d"
      },
      "execution_count": null,
      "outputs": [
        {
          "output_type": "stream",
          "name": "stdout",
          "text": [
            "True\n"
          ]
        }
      ]
    },
    {
      "cell_type": "code",
      "source": [
        "2.write a python program that accept a list of integer and check the length and fifth element.return true if the length of the list is 8 and fifth element occure thrice in the said list.\n"
      ],
      "metadata": {
        "id": "KqbyVMVdRZ69"
      },
      "execution_count": null,
      "outputs": []
    },
    {
      "cell_type": "code",
      "source": [
        "a=input('enter a list:')\n",
        "s=a.split(',')\n",
        "print('length of list :',len(s),'and fifth element is ',s[4])\n",
        "if len(s)==8 and s.count(s[4])==3:\n",
        "  print('true')"
      ],
      "metadata": {
        "colab": {
          "base_uri": "https://localhost:8080/"
        },
        "id": "GqSk7HNQSM0U",
        "outputId": "63e975a9-0282-4b11-f247-6d5f36326bc4"
      },
      "execution_count": null,
      "outputs": [
        {
          "output_type": "stream",
          "name": "stdout",
          "text": [
            "enter a list:1,2,1,3,1,3,4,4\n",
            "length of list : 8 and fifth element is  1\n",
            "true\n"
          ]
        }
      ]
    },
    {
      "cell_type": "code",
      "source": [
        "3.write a python program to split a string of words separated by commas and space into two list,words and separators.\n"
      ],
      "metadata": {
        "id": "AHgy7YDATeei"
      },
      "execution_count": null,
      "outputs": []
    },
    {
      "cell_type": "code",
      "source": [
        "a='the dance held in the school gym, ended at midnight.'\n",
        "b=a.split(',')\n",
        "c=\"\"\n",
        "for i in range (len(b)):\n",
        "  c+=b[i]\n",
        "d=c.split()\n",
        "q=[]\n",
        "for i in a:\n",
        "  if i=='' or i=='':\n",
        "    q.append(i)\n",
        "w=[]\n",
        "w.append(d)\n",
        "w.append(q)\n",
        "print(w)"
      ],
      "metadata": {
        "colab": {
          "base_uri": "https://localhost:8080/"
        },
        "id": "D7OmChyxVs-w",
        "outputId": "f86ce007-496f-446b-bca0-f3d3c7d5af3e"
      },
      "execution_count": null,
      "outputs": [
        {
          "output_type": "stream",
          "name": "stdout",
          "text": [
            "[['the', 'dance', 'held', 'in', 'the', 'school', 'gym', 'ended', 'at', 'midnight.'], []]\n"
          ]
        }
      ]
    },
    {
      "cell_type": "code",
      "source": [
        "4.write a python program to find missing numbers form a list\n",
        "input:[1,2,3,4,6,7,10]\n",
        "output:[5,8,9]"
      ],
      "metadata": {
        "id": "AYM5JkuqW819"
      },
      "execution_count": null,
      "outputs": []
    },
    {
      "cell_type": "code",
      "source": [
        "a=[1,2,3,4,5,6,7,8,9,10]\n",
        "s=[1,2,3,4,6,7,10]\n",
        "d=[]\n",
        "for i in a:\n",
        "  if i not in s:\n",
        "    d.append(i)\n",
        "print(d)"
      ],
      "metadata": {
        "colab": {
          "base_uri": "https://localhost:8080/"
        },
        "id": "ZXBeEDgAXi7k",
        "outputId": "aecac986-4801-4259-8578-6f2251567109"
      },
      "execution_count": null,
      "outputs": [
        {
          "output_type": "stream",
          "name": "stdout",
          "text": [
            "[5, 8, 9]\n"
          ]
        }
      ]
    },
    {
      "cell_type": "code",
      "source": [
        "write a python program to push all zeroes to the end of a list.\n",
        "input:[0,2,3,4,6,7,10]\n",
        "output:[2,3,4,6,7,10,0]"
      ],
      "metadata": {
        "id": "omZKi4IZYDBK"
      },
      "execution_count": null,
      "outputs": []
    },
    {
      "cell_type": "code",
      "source": [
        "a=[0,2,3,4,6,7,10,0,1,0]\n",
        "for i in a:\n",
        "  if i==0:\n",
        "    a.remove(i)\n",
        "    a.append(i)\n",
        "print(a)"
      ],
      "metadata": {
        "colab": {
          "base_uri": "https://localhost:8080/"
        },
        "id": "OHKTyRDQYoYD",
        "outputId": "f4217b36-021e-4daf-d78f-001d39f75ffd"
      },
      "execution_count": null,
      "outputs": [
        {
          "output_type": "stream",
          "name": "stdout",
          "text": [
            "[2, 3, 4, 6, 7, 10, 1, 0, 0, 0]\n"
          ]
        }
      ]
    },
    {
      "cell_type": "code",
      "source": [
        ""
      ],
      "metadata": {
        "colab": {
          "base_uri": "https://localhost:8080/"
        },
        "id": "KHLwXfl3ZADJ",
        "outputId": "f3a2fc78-a418-42dc-f099-a069cf4d4ee8"
      },
      "execution_count": null,
      "outputs": [
        {
          "output_type": "execute_result",
          "data": {
            "text/plain": [
              "[]"
            ]
          },
          "metadata": {},
          "execution_count": 10
        }
      ]
    },
    {
      "cell_type": "code",
      "source": [
        ""
      ],
      "metadata": {
        "id": "cJkqBfHKZJvm"
      },
      "execution_count": null,
      "outputs": []
    }
  ]
}