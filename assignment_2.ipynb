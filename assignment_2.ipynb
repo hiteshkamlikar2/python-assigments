{
  "nbformat": 4,
  "nbformat_minor": 0,
  "metadata": {
    "colab": {
      "name": "assignment 2.ipynb",
      "provenance": []
    },
    "kernelspec": {
      "name": "python3",
      "display_name": "Python 3"
    },
    "language_info": {
      "name": "python"
    }
  },
  "cells": [
    {
      "cell_type": "code",
      "execution_count": null,
      "metadata": {
        "id": "Fr5HCXqgDwOk"
      },
      "outputs": [],
      "source": [
        ""
      ]
    },
    {
      "cell_type": "markdown",
      "source": [
        "Write a Rectangle class in Python language, allowing you to build a rectangle with length and width attributes.Create a Perimeter() method to calculate the perimeter of the rectangle and a Area() method to calculate the area of ​​the rectangle.Create a method display() that display the length, width, perimeter and area of an object created using an instantiation on rectangle class.Create a Parallelepipede child class inheriting from the Rectangle class and with a height attribute and another Volume() method to calculate the volume of the Parallelepiped."
      ],
      "metadata": {
        "id": "uN8009rP04NR"
      }
    },
    {
      "cell_type": "code",
      "source": [
        "class Rectangle:\n",
        "  def length(self,l):\n",
        "    self.length=l\n",
        "    print('length:',self.length)\n",
        "  def width(self,w):\n",
        "    self.width=w\n",
        "    print('width:',self.width)\n",
        "  def area(self):\n",
        "    self.area=self.width*self.length\n",
        "    print('area:',self.area)\n",
        "  def perimeter(self):\n",
        "    self.perimeter=2*(self.width + self.length)\n",
        "    print('perimeter:',self.perimeter)\n",
        "  def display(self):\n",
        "    print('length:',self.length,'width:',self.width,'area:',self.area,'perimeter:',self.perimeter)\n"
      ],
      "metadata": {
        "id": "kVSfNFe72qfe"
      },
      "execution_count": null,
      "outputs": []
    },
    {
      "cell_type": "code",
      "source": [
        "class Para(Rectangle):\n",
        "  def height(self,h):\n",
        "    self.height=h\n",
        "  def volume(self):\n",
        "    self.volume=(self.area * self.height)"
      ],
      "metadata": {
        "id": "0CHI2Gkk7KtP"
      },
      "execution_count": null,
      "outputs": []
    },
    {
      "cell_type": "code",
      "source": [
        "r1=Para()"
      ],
      "metadata": {
        "id": "LOfyJjcF-o8S"
      },
      "execution_count": null,
      "outputs": []
    },
    {
      "cell_type": "code",
      "source": [
        "r1.length(15)"
      ],
      "metadata": {
        "colab": {
          "base_uri": "https://localhost:8080/"
        },
        "id": "pAcbqSCb5HZk",
        "outputId": "4905bd27-561c-4474-fa95-32172af37093"
      },
      "execution_count": null,
      "outputs": [
        {
          "output_type": "stream",
          "name": "stdout",
          "text": [
            "length: 15\n"
          ]
        }
      ]
    },
    {
      "cell_type": "code",
      "source": [
        "r1.width(8)"
      ],
      "metadata": {
        "colab": {
          "base_uri": "https://localhost:8080/"
        },
        "id": "NDIagRlt5RUD",
        "outputId": "371d6451-ac9f-4bba-946e-5ff25e3b80a4"
      },
      "execution_count": null,
      "outputs": [
        {
          "output_type": "stream",
          "name": "stdout",
          "text": [
            "width: 8\n"
          ]
        }
      ]
    },
    {
      "cell_type": "code",
      "source": [
        "r1.area()"
      ],
      "metadata": {
        "colab": {
          "base_uri": "https://localhost:8080/"
        },
        "id": "QM6jG5Cc5eS1",
        "outputId": "94ed62f5-498f-4c19-cf84-f19def09cdda"
      },
      "execution_count": null,
      "outputs": [
        {
          "output_type": "stream",
          "name": "stdout",
          "text": [
            "area: 120\n"
          ]
        }
      ]
    },
    {
      "cell_type": "code",
      "source": [
        "r1.perimeter()"
      ],
      "metadata": {
        "colab": {
          "base_uri": "https://localhost:8080/"
        },
        "id": "HYD00Lnp5hbb",
        "outputId": "1ae9b96a-7c7b-4aba-b3af-2d04e316ec23"
      },
      "execution_count": null,
      "outputs": [
        {
          "output_type": "stream",
          "name": "stdout",
          "text": [
            "perimeter: 46\n"
          ]
        }
      ]
    },
    {
      "cell_type": "code",
      "source": [
        "r1.display()"
      ],
      "metadata": {
        "colab": {
          "base_uri": "https://localhost:8080/"
        },
        "id": "BDWPF4XQ5lF9",
        "outputId": "1cddf8dc-8ee0-448e-eb54-9a050ec24a6d"
      },
      "execution_count": null,
      "outputs": [
        {
          "output_type": "stream",
          "name": "stdout",
          "text": [
            "length: 15 width: 8 area: 120 perimeter: 46\n"
          ]
        }
      ]
    },
    {
      "cell_type": "code",
      "source": [
        "r1.height(22)"
      ],
      "metadata": {
        "id": "VQYXbNsx76Pl"
      },
      "execution_count": null,
      "outputs": []
    },
    {
      "cell_type": "code",
      "source": [
        "r1.volume()"
      ],
      "metadata": {
        "id": "5YMDNfDj7_gj"
      },
      "execution_count": null,
      "outputs": []
    },
    {
      "cell_type": "code",
      "source": [
        "print(r1.volume)"
      ],
      "metadata": {
        "colab": {
          "base_uri": "https://localhost:8080/"
        },
        "id": "iMjOlYuJ8DLJ",
        "outputId": "d7cd9c7c-b43e-49a8-c655-7533d05c73eb"
      },
      "execution_count": null,
      "outputs": [
        {
          "output_type": "stream",
          "name": "stdout",
          "text": [
            "2640\n"
          ]
        }
      ]
    },
    {
      "cell_type": "markdown",
      "source": [
        "Create a Python class Person with attributes: name and age of type string.Create a display() method that displays the name and age of an object created via the Person class.Create a child class Student  which inherits from the Person class and which also has a section attribute.Create a method displayStudent() that displays the name, age and section of an object created via the Student class.Create a student object via an instantiation on the Student class and then test the displayStudent method."
      ],
      "metadata": {
        "id": "vDmNkZ8K_c5o"
      }
    },
    {
      "cell_type": "code",
      "source": [
        "class Person:\n",
        "  def name(self):\n",
        "    self.name=input('enter name :')\n",
        "  def age(self):\n",
        "    self.age=input('age:')\n",
        "  def display(self):\n",
        "    print('name:',self.name,'age:',self.age)\n",
        "    "
      ],
      "metadata": {
        "id": "EIKZ0L3U9K-H"
      },
      "execution_count": null,
      "outputs": []
    },
    {
      "cell_type": "code",
      "source": [
        "class Student(Person):\n",
        "  def section(self):\n",
        "    self.section=input('enter section:')\n",
        "  def display(self):\n",
        "    print('name:',self.name,'age:',self.age,'section:',self.section)"
      ],
      "metadata": {
        "id": "sWnP6cXT_jk8"
      },
      "execution_count": null,
      "outputs": []
    },
    {
      "cell_type": "code",
      "source": [
        "s1=Person()"
      ],
      "metadata": {
        "id": "AAzkXVWAGZX2"
      },
      "execution_count": null,
      "outputs": []
    },
    {
      "cell_type": "code",
      "source": [
        "s1.name()\n",
        "s1.age()\n",
        "s1.display()"
      ],
      "metadata": {
        "colab": {
          "base_uri": "https://localhost:8080/"
        },
        "id": "sr7fPqj3G8Kc",
        "outputId": "71e808d9-9f50-483a-dd1a-8c4368cd7bb8"
      },
      "execution_count": null,
      "outputs": [
        {
          "output_type": "stream",
          "name": "stdout",
          "text": [
            "enter name :jayraj\n",
            "age:23\n",
            "name: jayraj age 23\n"
          ]
        }
      ]
    },
    {
      "cell_type": "code",
      "source": [
        "s2=Student()"
      ],
      "metadata": {
        "id": "c7I9YwKsGwr_"
      },
      "execution_count": null,
      "outputs": []
    },
    {
      "cell_type": "code",
      "source": [
        "s2.name()\n",
        "s2.age()\n",
        "s2.section()\n",
        "s2.display()"
      ],
      "metadata": {
        "colab": {
          "base_uri": "https://localhost:8080/"
        },
        "id": "k7HYzAMxHMSA",
        "outputId": "30f13f83-37ee-4826-fb6d-75c80f77931e"
      },
      "execution_count": null,
      "outputs": [
        {
          "output_type": "stream",
          "name": "stdout",
          "text": [
            "enter name :navnath\n",
            "age:24\n",
            "enter section:DBDA\n",
            "name: navnath age: 24 section: DBDA\n"
          ]
        }
      ]
    },
    {
      "cell_type": "markdown",
      "source": [
        " Define a Book class with the following attributes: Title, Author (Full name), Price.Define a constructor used to initialize the attributes of the method with values entered by the user.Set the View() method to display information for the current book.Write a program to testing the Book class"
      ],
      "metadata": {
        "id": "EimToUxJH4ZE"
      }
    },
    {
      "cell_type": "code",
      "source": [
        "class Book:\n",
        "  def __init__(self):\n",
        "    self.title=input('enter book name:')\n",
        "    self.author=input('enter author name:')\n",
        "    self.price=float(input('enter price:'))\n",
        "  def view(self):\n",
        "    print('title:',self.title,'author:',self.author,'price:',self.price)"
      ],
      "metadata": {
        "id": "3OiLrYRqHOP9"
      },
      "execution_count": null,
      "outputs": []
    },
    {
      "cell_type": "code",
      "source": [
        "b1=Book()"
      ],
      "metadata": {
        "colab": {
          "base_uri": "https://localhost:8080/"
        },
        "id": "0NfFtYYyMxEG",
        "outputId": "fe32021a-c4d1-4e0c-a01f-c5e3e13232fc"
      },
      "execution_count": null,
      "outputs": [
        {
          "name": "stdout",
          "output_type": "stream",
          "text": [
            "enter book name:100 ways to learn R\n",
            "enter author name:mohit patil\n",
            "enter price:200\n"
          ]
        }
      ]
    },
    {
      "cell_type": "code",
      "source": [
        "b1.view()"
      ],
      "metadata": {
        "colab": {
          "base_uri": "https://localhost:8080/"
        },
        "id": "SZTp-mFtNkLY",
        "outputId": "d1405907-ab19-4715-bcb5-83325b2ab766"
      },
      "execution_count": null,
      "outputs": [
        {
          "output_type": "stream",
          "name": "stdout",
          "text": [
            "title 100 ways to learn R author mohit patil price 200.0\n"
          ]
        }
      ]
    },
    {
      "cell_type": "markdown",
      "source": [
        "Create a class called TK_extended which inherits from TK class and having the attributes:\n",
        "- Master: that represents the name of the main window\n",
        "- title: that represents the title of the main window\n",
        "2 - Create a method called create() that creates the window\n",
        "3 - Create a method called resize(width, height) that can resize the window.\n",
        "4 - Create a method called generate() to generate the window"
      ],
      "metadata": {
        "id": "ZAL0qdfoNriv"
      }
    },
    {
      "cell_type": "code",
      "source": [
        "class TK:\n",
        "  def master(self)\n",
        "  def title(self)\n",
        "class TK_extended(Tk):\n",
        "  def create(self)\n",
        "  def resize(self,w,l)\n",
        "  def generate(self)\n",
        "\n",
        "\n",
        "  "
      ],
      "metadata": {
        "id": "sDmWbJrVMy7v"
      },
      "execution_count": null,
      "outputs": []
    },
    {
      "cell_type": "markdown",
      "source": [
        "Create a child class Bus that will inherit all of the variables and methods of the Vehicle class. In the vehicle class create relevant methods and variables. Define a property that must have the same value for every class instance (object). Define a class attribute \"color” with a default value white. I.e., Every Vehicle should be white.\n"
      ],
      "metadata": {
        "id": "EiJ3tDBUYw8H"
      }
    },
    {
      "cell_type": "code",
      "source": [
        "class Vehicle:\n",
        "  def __init__(self,c='white'):\n",
        "    self.wheels=int(input('no of wheels:'))\n",
        "    self.colour=c\n",
        "class Bus(Vehicle):\n",
        "  def info(self):\n",
        "    self.length=float(input('lenght:'))\n",
        "    self.brand=input('enter brand name:')\n",
        "  def display(self):\n",
        "    print('no of wheels:',self.wheels,'colour:',self.colour,'length:',self.length,'brand:',self.brand)"
      ],
      "metadata": {
        "id": "uAsFMjSOY67n"
      },
      "execution_count": null,
      "outputs": []
    },
    {
      "cell_type": "code",
      "source": [
        "bus=Bus()"
      ],
      "metadata": {
        "colab": {
          "base_uri": "https://localhost:8080/"
        },
        "id": "HtgDRvNra3f8",
        "outputId": "9e408cbf-02b4-481d-a719-c38f9a7dabde"
      },
      "execution_count": null,
      "outputs": [
        {
          "name": "stdout",
          "output_type": "stream",
          "text": [
            "no of wheels:6\n"
          ]
        }
      ]
    },
    {
      "cell_type": "code",
      "source": [
        "bus.info()"
      ],
      "metadata": {
        "colab": {
          "base_uri": "https://localhost:8080/"
        },
        "id": "SvA1ICDla6j5",
        "outputId": "18468b07-2ef7-4077-9821-9ccc16a3a39f"
      },
      "execution_count": null,
      "outputs": [
        {
          "name": "stdout",
          "output_type": "stream",
          "text": [
            "lenght:15\n",
            "enter brand name:tata\n"
          ]
        }
      ]
    },
    {
      "cell_type": "code",
      "source": [
        "bus.display()"
      ],
      "metadata": {
        "colab": {
          "base_uri": "https://localhost:8080/"
        },
        "id": "ePnQF6QDbXFx",
        "outputId": "82a1b1b1-246e-4657-c71b-761ac4b2477f"
      },
      "execution_count": null,
      "outputs": [
        {
          "output_type": "stream",
          "name": "stdout",
          "text": [
            "no of wheels: 6 colour: white length: 15.0 brand: tata\n"
          ]
        }
      ]
    },
    {
      "cell_type": "markdown",
      "source": [
        "Create a Python class called BankAccount which represents a bank account, having as attributes: accountNumber (numeric type), name (name of the account owner as string type), balance.Create a constructor with parameters: accountNumber, name, balance.Create a Deposit() method which manages the deposit actions.Create a Withdrawal() method  which manages withdrawals actions.Create an bankFees() method to apply the bank fees with a percentage of 5% of the balance account.Create a display() method to display account details.Give the complete code for the  BankAccount class."
      ],
      "metadata": {
        "id": "UOZZLkES1-JD"
      }
    },
    {
      "cell_type": "code",
      "source": [
        "accno=20220400\n",
        "class bankacc:\n",
        "  def __init__(self):\n",
        "    self.accountno=int(input())\n",
        "    print('your account number:',self.accountno)\n",
        "    self.name=input('enter your name')\n",
        "    self.balance=float(input('enter a amount:'))\n",
        "  def deposit(self):\n",
        "    depo=float(input('enter amount to deposit:'))\n",
        "    self.balance+=depo\n",
        "    print('total balance:',self.balance,'deposit:',depo)\n",
        "  def withdrawal(self):\n",
        "    wit=float(input('enter amount to withdrawal:'))\n",
        "    self.balance-=wit\n",
        "    print('withdrawal:',wit,'total balance:',self.balance)\n",
        "  def bankfees(self):\n",
        "    self.balance*=0.95\n",
        "  def display(self):\n",
        "    print('account number:',self.accountno,'account owner name: ',self.name,'account balance:',self.balance)\n",
        "\n",
        "\n"
      ],
      "metadata": {
        "id": "j0953jBUbcxX"
      },
      "execution_count": null,
      "outputs": []
    },
    {
      "cell_type": "code",
      "source": [
        "q1=bankacc()"
      ],
      "metadata": {
        "colab": {
          "base_uri": "https://localhost:8080/"
        },
        "id": "ekwHEit96joq",
        "outputId": "4c12c072-5a2e-44b8-cc38-1468b95f31e2"
      },
      "execution_count": null,
      "outputs": [
        {
          "name": "stdout",
          "output_type": "stream",
          "text": [
            "220200\n",
            "your account number: 220200\n",
            "enter your namedhiraj\n",
            "enter a amount:20000\n"
          ]
        }
      ]
    },
    {
      "cell_type": "code",
      "source": [
        "q1.deposit()"
      ],
      "metadata": {
        "colab": {
          "base_uri": "https://localhost:8080/"
        },
        "id": "jikwKMVD6vYP",
        "outputId": "b0b7e982-2828-4cb7-e264-4cfe991bb0e8"
      },
      "execution_count": null,
      "outputs": [
        {
          "output_type": "stream",
          "name": "stdout",
          "text": [
            "enter amount to deposit:3000\n",
            "total balance: 23000.0 deposit: 3000.0\n"
          ]
        }
      ]
    },
    {
      "cell_type": "code",
      "source": [
        "q1.withdrawal()"
      ],
      "metadata": {
        "colab": {
          "base_uri": "https://localhost:8080/"
        },
        "id": "K89GHlGSGO9-",
        "outputId": "ba4e56a5-4ed4-423d-969b-2b502d0250de"
      },
      "execution_count": null,
      "outputs": [
        {
          "output_type": "stream",
          "name": "stdout",
          "text": [
            "enter amount to withdrawal:10000\n",
            "withdrawal: 10000.0 total balance: 13000.0\n"
          ]
        }
      ]
    },
    {
      "cell_type": "code",
      "source": [
        "q1.bankfees()"
      ],
      "metadata": {
        "id": "JtZgFhl3Gboz"
      },
      "execution_count": null,
      "outputs": []
    },
    {
      "cell_type": "code",
      "source": [
        "q1.display()"
      ],
      "metadata": {
        "id": "lveO92eGGh_h",
        "outputId": "da24af52-1453-4c1a-96f8-31789a22d62f",
        "colab": {
          "base_uri": "https://localhost:8080/"
        }
      },
      "execution_count": null,
      "outputs": [
        {
          "output_type": "stream",
          "name": "stdout",
          "text": [
            "account number: 220200 account owner name:  dhiraj account balance: 12350.0\n"
          ]
        }
      ]
    },
    {
      "cell_type": "code",
      "source": [
        ""
      ],
      "metadata": {
        "id": "7dIfq09HGk3B"
      },
      "execution_count": null,
      "outputs": []
    }
  ]
}